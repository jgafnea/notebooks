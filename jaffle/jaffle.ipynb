{
 "cells": [
  {
   "cell_type": "markdown",
   "metadata": {},
   "source": [
    "# DuckDB Jaffle Shop Analysis Notebook\n",
    "\n",
    "This notebook connects to the existing `jaffle.duckdb` file and performs core business analysis and visualization using Python libraries.\n",
    "\n",
    "**Pre-requisite:** The file `jaffle.duckdb` with an `orders` table must be present in the same directory."
   ]
  },
  {
   "cell_type": "code",
   "execution_count": null,
   "metadata": {},
   "outputs": [],
   "source": [
    "import duckdb\n",
    "import pandas as pd\n",
    "import matplotlib.pyplot as plt\n",
    "import seaborn as sns\n",
    "\n",
    "# Set a consistent style for the visualizations\n",
    "sns.set(style=\"whitegrid\")\n",
    "\n",
    "# Connect to the existing DuckDB database file\n",
    "DB_FILE = 'jaffle.duckdb'\n",
    "con = duckdb.connect(database=DB_FILE, read_only=True)\n",
    "print(f\"Successfully connected to {DB_FILE}\")"
   ]
  },
  {
   "cell_type": "markdown",
   "metadata": {},
   "source": [
    "## 1. Core Metrics & Status\n",
    "\n",
    "Checking the total number of orders and their distribution by status."
   ]
  },
  {
   "cell_type": "code",
   "execution_count": null,
   "metadata": {},
   "outputs": [],
   "source": [
    "# Total Order Count\n",
    "print(\"Total Orders:\")\n",
    "con.execute(\"SELECT COUNT(*) AS total_orders FROM orders\").df()"
   ]
  },
  {
   "cell_type": "code",
   "execution_count": null,
   "metadata": {},
   "outputs": [],
   "source": [
    "# Orders by Status (Bar Chart)\n",
    "orders_status = con.execute(\"SELECT status, COUNT(*) AS num_orders FROM orders GROUP BY status\").df()\n",
    "plt.figure(figsize=(6,4))\n",
    "sns.barplot(data=orders_status, x='status', y='num_orders', palette='viridis')\n",
    "plt.title('Orders by Status')\n",
    "plt.xlabel('Order Status')\n",
    "plt.ylabel('Number of Orders')\n",
    "plt.tight_layout()\n",
    "plt.show()"
   ]
  },
  {
   "cell_type": "markdown",
   "metadata": {},
   "source": [
    "## 2. Revenue & Value Metrics\n",
    "\n",
    "Analyzing monthly revenue trends and Average Order Value (AOV)."
   ]
  },
  {
   "cell_type": "code",
   "execution_count": null,
   "metadata": {},
   "outputs": [],
   "source": [
    "# Monthly Revenue (Line Chart)\n",
    "monthly_revenue = con.execute(\"\"\"SELECT DATE_TRUNC('month', order_date) AS month, SUM(amount) AS revenue FROM orders GROUP BY month ORDER BY month\"\"\").df()\n",
    "plt.figure(figsize=(10,5))\n",
    "sns.lineplot(data=monthly_revenue, x='month', y='revenue', marker='o', color='darkorange')\n",
    "plt.title('Monthly Revenue')\n",
    "plt.xlabel('Month')\n",
    "plt.ylabel('Total Revenue ($)')\n",
    "plt.xticks(rotation=45)\n",
    "plt.tight_layout()\n",
    "plt.show()"
   ]
  },
  {
   "cell_type": "code",
   "execution_count": null,
   "metadata": {},
   "outputs": [],
   "source": [
    "# Revenue by Payment Type (Pie Chart)\n",
    "payment_revenue = con.execute(\"SELECT SUM(credit_card_amount) AS credit_card, SUM(bank_transfer_amount) AS bank_transfer, SUM(gift_card_amount) AS gift_card, SUM(coupon_amount) AS discount FROM orders\").df()\n",
    "\n",
    "plt.figure(figsize=(7,7))\n",
    "colors = sns.color_palette('pastel')[0:4]\n",
    "plt.pie(\n",
    "    payment_revenue.iloc[0],\n",
    "    labels=payment_revenue.columns,\n",
    "    autopct='%1.1f%%',\n",
    "    startangle=90,\n",
    "    wedgeprops={'edgecolor': 'white'},\n",
    "    colors=colors\n",
    ")\n",
    "plt.title('Revenue by Payment Type')\n",
    "plt.show()"
   ]
  },
  {
   "cell_type": "code",
   "execution_count": null,
   "metadata": {},
   "outputs": [],
   "source": [
    "# Average Order Value (AOV) by Month (Line Chart)\n",
    "aov_month = con.execute(\"SELECT DATE_TRUNC('month', order_date) AS month, AVG(amount) AS avg_order_value FROM orders GROUP BY month ORDER BY month\").df()\n",
    "plt.figure(figsize=(10,5))\n",
    "sns.lineplot(data=aov_month, x='month', y='avg_order_value', marker='o', color='forestgreen')\n",
    "plt.title('Average Order Value (AOV) by Month')\n",
    "plt.xlabel('Month')\n",
    "plt.ylabel('Average Order Value ($)')\n",
    "plt.xticks(rotation=45)\n",
    "plt.tight_layout()\n",
    "plt.show()"
   ]
  },
  {
   "cell_type": "markdown",
   "metadata": {},
   "source": [
    "## 3. Customer Analysis\n",
    "\n",
    "Identifying customer behavior, including repeat purchases and high-value customers."
   ]
  },
  {
   "cell_type": "code",
   "execution_count": null,
   "metadata": {},
   "outputs": [],
   "source": [
    "# Repeat Customer Analysis\n",
    "repeat_customers = con.execute(\"\"\"WITH customer_orders AS (SELECT customer_id, COUNT(order_id) AS num_orders FROM orders GROUP BY customer_id) SELECT SUM(CASE WHEN num_orders > 1 THEN 1 ELSE 0 END) AS repeat_customers, COUNT(*) AS total_customers, 100.0 * SUM(CASE WHEN num_orders > 1 THEN 1 ELSE 0 END)/COUNT(*) AS repeat_percent FROM customer_orders\"\"\").df()\n",
    "print(\"Repeat Customer Metrics:\")\n",
    "repeat_customers"
   ]
  },
  {
   "cell_type": "code",
   "execution_count": null,
   "metadata": {},
   "outputs": [],
   "source": [
    "# Top 10 Customers by Total Spend (Bar Chart)\n",
    "top_customers = con.execute(\"SELECT customer_id, SUM(amount) AS total_spent FROM orders GROUP BY customer_id ORDER BY total_spent DESC LIMIT 10\").df()\n",
    "plt.figure(figsize=(10,5))\n",
    "sns.barplot(data=top_customers, x='customer_id', y='total_spent', palette='rocket')\n",
    "plt.title('Top 10 Customers by Total Spend')\n",
    "plt.xlabel('Customer ID')\n",
    "plt.ylabel('Total Spent ($)')\n",
    "plt.xticks(rotation=45)\n",
    "plt.tight_layout()\n",
    "plt.show()"
   ]
  },
  {
   "cell_type": "markdown",
   "metadata": {},
   "source": [
    "## 4. Cleanup\n",
    "\n",
    "Close the database connection to release the file lock."
   ]
  },
  {
   "cell_type": "code",
   "execution_count": null,
   "metadata": {},
   "outputs": [],
   "source": [
    "# Close the DuckDB connection\n",
    "con.close()\n",
    "print(\"DuckDB connection closed.\")"
   ]
  }
 ],
 "metadata": {
  "kernelspec": {
   "display_name": "Python 3",
   "language": "python",
   "name": "python3"
  },
  "language_info": {
   "name": "python",
   "version": "3.11"
  }
 },
 "nbformat": 4,
 "nbformat_minor": 5
}
